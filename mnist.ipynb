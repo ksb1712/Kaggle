{
 "cells": [
  {
   "cell_type": "markdown",
   "metadata": {},
   "source": [
    "<b>Kaggle Digit Recognizer</b>\n",
    "<br>\n",
    "This is my submission for the Kaggle digit recognizer competition. This is based on <a href=\"https://www.kaggle.com/yassineghouzam\">Yassine Ghouzam's </a> implementation with my custom architecture. This utilizes the keras functional API. \n",
    "<br>\n",
    "This implementation achieved a score of 0.99586 <b>(top 8%)</b>\n"
   ]
  },
  {
   "cell_type": "code",
   "execution_count": 1,
   "metadata": {},
   "outputs": [
    {
     "name": "stderr",
     "output_type": "stream",
     "text": [
      "Using TensorFlow backend.\n"
     ]
    }
   ],
   "source": [
    "import pandas as pd\n",
    "import numpy as np\n",
    "import matplotlib.pyplot as plt\n",
    "import matplotlib.image as mpimg\n",
    "import seaborn as sns\n",
    "%matplotlib inline\n",
    "\n",
    "np.random.seed(2)\n",
    "\n",
    "from sklearn.model_selection import train_test_split\n",
    "from sklearn.metrics import confusion_matrix\n",
    "import itertools\n",
    "\n",
    "from keras.utils.np_utils import to_categorical # convert to one-hot-encoding\n",
    "from keras.models import Sequential, Model\n",
    "from keras.layers import Dense, Dropout, Flatten, Conv2D, MaxPool2D, Input, Activation\n",
    "from keras.layers.normalization import BatchNormalization\n",
    "from keras.optimizers import RMSprop, SGD\n",
    "from keras.preprocessing.image import ImageDataGenerator\n",
    "from keras.callbacks import ReduceLROnPlateau,ModelCheckpoint\n",
    "sns.set(style='white', context='notebook', palette='deep')"
   ]
  },
  {
   "cell_type": "code",
   "execution_count": 19,
   "metadata": {
    "collapsed": true
   },
   "outputs": [],
   "source": [
    "# Load the data\n",
    "train = pd.read_csv(\"train.csv\")\n",
    "test = pd.read_csv(\"test.csv\")"
   ]
  },
  {
   "cell_type": "code",
   "execution_count": 20,
   "metadata": {},
   "outputs": [
    {
     "data": {
      "text/plain": [
       "1    4684\n",
       "7    4401\n",
       "3    4351\n",
       "9    4188\n",
       "2    4177\n",
       "6    4137\n",
       "0    4132\n",
       "4    4072\n",
       "8    4063\n",
       "5    3795\n",
       "Name: label, dtype: int64"
      ]
     },
     "execution_count": 20,
     "metadata": {},
     "output_type": "execute_result"
    },
    {
     "data": {
      "image/png": "[encoded data removed]",
      "text/plain": [
       "<matplotlib.figure.Figure at 0x7f804492d650>"
      ]
     },
     "metadata": {},
     "output_type": "display_data"
    }
   ],
   "source": [
    "Y_train = train[\"label\"]\n",
    "\n",
    "# Drop 'label' column\n",
    "X_train = train.drop(labels = [\"label\"],axis = 1) \n",
    "\n",
    "# free some space\n",
    "del train \n",
    "\n",
    "g = sns.countplot(Y_train)\n",
    "\n",
    "Y_train.value_counts()"
   ]
  },
  {
   "cell_type": "code",
   "execution_count": 21,
   "metadata": {},
   "outputs": [
    {
     "data": {
      "text/plain": [
       "(42000, 784)"
      ]
     },
     "execution_count": 21,
     "metadata": {},
     "output_type": "execute_result"
    }
   ],
   "source": [
    "X_train.shape"
   ]
  },
  {
   "cell_type": "code",
   "execution_count": 14,
   "metadata": {},
   "outputs": [
    {
     "data": {
      "text/plain": [
       "count       784\n",
       "unique        1\n",
       "top       False\n",
       "freq        784\n",
       "dtype: object"
      ]
     },
     "execution_count": 14,
     "metadata": {},
     "output_type": "execute_result"
    }
   ],
   "source": [
    "# Check the data\n",
    "X_train.isnull().any().describe()"
   ]
  },
  {
   "cell_type": "code",
   "execution_count": 15,
   "metadata": {},
   "outputs": [
    {
     "data": {
      "text/plain": [
       "count       784\n",
       "unique        1\n",
       "top       False\n",
       "freq        784\n",
       "dtype: object"
      ]
     },
     "execution_count": 15,
     "metadata": {},
     "output_type": "execute_result"
    }
   ],
   "source": [
    "test.isnull().any().describe()"
   ]
  },
  {
   "cell_type": "code",
   "execution_count": 16,
   "metadata": {
    "collapsed": true
   },
   "outputs": [],
   "source": [
    "# Gray scale Normalize the data\n",
    "X_train = X_train / 255.0\n",
    "test = test / 255.0"
   ]
  },
  {
   "cell_type": "code",
   "execution_count": 26,
   "metadata": {
    "collapsed": true
   },
   "outputs": [],
   "source": [
    "# Reshape image in 3 dimensions (height = 28px, width = 28px , canal = 1)\n",
    "X_train = X_train.values.reshape(-1,28,28,1)\n",
    "test = test.values.reshape(-1,28,28,1)"
   ]
  },
  {
   "cell_type": "code",
   "execution_count": 27,
   "metadata": {},
   "outputs": [
    {
     "data": {
      "text/plain": [
       "(42000, 28, 28, 1)"
      ]
     },
     "execution_count": 27,
     "metadata": {},
     "output_type": "execute_result"
    }
   ],
   "source": [
    "X_train.shape\n"
   ]
  },
  {
   "cell_type": "code",
   "execution_count": 8,
   "metadata": {
    "collapsed": true
   },
   "outputs": [],
   "source": [
    "# Encode labels to one hot vectors (ex : 2 -> [0,0,1,0,0,0,0,0,0,0])\n",
    "Y_train = to_categorical(Y_train, num_classes = 10)"
   ]
  },
  {
   "cell_type": "code",
   "execution_count": 9,
   "metadata": {
    "collapsed": true
   },
   "outputs": [],
   "source": [
    "# Set the random seed\n",
    "random_seed = 2"
   ]
  },
  {
   "cell_type": "code",
   "execution_count": 10,
   "metadata": {
    "collapsed": true
   },
   "outputs": [],
   "source": [
    "# Split the train and the validation set for the fitting 10% val\n",
    "X_train, X_val, Y_train, Y_val = train_test_split(X_train, Y_train, test_size = 0.2, random_state=random_seed)"
   ]
  },
  {
   "cell_type": "code",
   "execution_count": 11,
   "metadata": {},
   "outputs": [
    {
     "data": {
      "image/png": "[encoded data removed]",
      "text/plain": [
       "<matplotlib.figure.Figure at 0x7fd67209a0d0>"
      ]
     },
     "metadata": {},
     "output_type": "display_data"
    }
   ],
   "source": [
    "# Some examples\n",
    "g = plt.imshow(X_train[0][:,:,0])"
   ]
  },
  {
   "cell_type": "code",
   "execution_count": 12,
   "metadata": {
    "collapsed": true
   },
   "outputs": [],
   "source": [
    "# With data augmentation to prevent overfitting (accuracy 0.99286)\n",
    "\n",
    "datagen = ImageDataGenerator(\n",
    "        featurewise_center=False,  # set input mean to 0 over the dataset\n",
    "        samplewise_center=False,  # set each sample mean to 0\n",
    "        featurewise_std_normalization=False,  # divide inputs by std of the dataset\n",
    "        samplewise_std_normalization=False,  # divide each input by its std\n",
    "        zca_whitening=False,  # apply ZCA whitening\n",
    "        rotation_range=10,  # randomly rotate images in the range (degrees, 0 to 180)\n",
    "        zoom_range = 0.1, # Randomly zoom image \n",
    "        width_shift_range=0.1,  # randomly shift images horizontally (fraction of total width)\n",
    "        height_shift_range=0.1,  # randomly shift images vertically (fraction of total height)\n",
    "        horizontal_flip=False,  # randomly flip images\n",
    "        vertical_flip=False)  # randomly flip images\n",
    "\n",
    "\n",
    "datagen.fit(X_train)"
   ]
  },
  {
   "cell_type": "code",
   "execution_count": 40,
   "metadata": {
    "collapsed": true
   },
   "outputs": [],
   "source": [
    "# Set the CNN model \n",
    "# my CNN architechture is In -> [[Conv2D->relu]*2 -> MaxPool2D -> Dropout]*2 -> Flatten -> Dense -> Dropout -> Out\n",
    "\n",
    "def my_model(preload = None):\n",
    "    \n",
    "    inputs = Input(shape=(28,28,1))\n",
    "    \n",
    "    conv1 = Conv2D(32,(3,3),padding='same')(inputs)\n",
    "    conv1 = BatchNormalization(axis=-1)(conv1)\n",
    "    conv1 = Activation('relu')(conv1)\n",
    "    \n",
    "    conv1 = Conv2D(32,(3,3),padding='same')(conv1)\n",
    "    conv1 = BatchNormalization(axis=-1)(conv1)\n",
    "    conv1 = Activation('relu')(conv1)\n",
    "    \n",
    "    pool1 = MaxPool2D((2,2),padding='same')(conv1)\n",
    "    pool1 = Dropout(0.2)(pool1)\n",
    "    \n",
    "    conv2 = Conv2D(64,(3,3),padding='same')(pool1)\n",
    "    conv2 = BatchNormalization(axis=-1)(conv2)\n",
    "    conv2 = Activation('relu')(conv2)\n",
    "    \n",
    "    conv2 = Conv2D(64,(3,3),padding='same')(conv2)\n",
    "    conv2 = BatchNormalization(axis=-1)(conv2)\n",
    "    conv2 = Activation('relu')(conv2)\n",
    "    \n",
    "    pool2 = MaxPool2D((2,2),padding='same')(conv2)\n",
    "    pool2 = Dropout(0.2)(pool2)\n",
    "\n",
    "    flat = Flatten()(pool2)\n",
    "    \n",
    "    dense = Dense(256,activation = 'relu')(flat)\n",
    "    \n",
    "    out = Dense(10,activation='softmax')(dense)\n",
    "    \n",
    "    model = Model(inputs,out)\n",
    "    \n",
    "    if preload:\n",
    "        model.load_weights(preload)\n",
    "    \n",
    "    return model"
   ]
  },
  {
   "cell_type": "code",
   "execution_count": 30,
   "metadata": {
    "collapsed": true
   },
   "outputs": [],
   "source": [
    "# Define the optimizer\n",
    "optimizer = SGD(lr=0.001, momentum=0.9, nesterov=True)"
   ]
  },
  {
   "cell_type": "code",
   "execution_count": 31,
   "metadata": {
    "collapsed": true
   },
   "outputs": [],
   "source": [
    "bestval = ModelCheckpoint('bestval.h5', monitor='val_loss', verbose=1, save_best_only=True, save_weights_only=True, mode='auto', period=1)\n"
   ]
  },
  {
   "cell_type": "code",
   "execution_count": 41,
   "metadata": {
    "collapsed": true
   },
   "outputs": [],
   "source": [
    "# Compile the model\n",
    "model = my_model()\n",
    "model.compile(optimizer = optimizer , loss = \"categorical_crossentropy\", metrics=[\"accuracy\"])"
   ]
  },
  {
   "cell_type": "code",
   "execution_count": 33,
   "metadata": {
    "collapsed": true
   },
   "outputs": [],
   "source": [
    "epochs = 35 # Turn epochs to 30 to get 0.9967 accuracy\n",
    "batch_size = 86"
   ]
  },
  {
   "cell_type": "code",
   "execution_count": 37,
   "metadata": {
    "collapsed": true
   },
   "outputs": [],
   "source": [
    "# Set a learning rate annealer\n",
    "learning_rate_reduction = ReduceLROnPlateau(monitor='val_acc', \n",
    "                                            patience=3, \n",
    "                                            verbose=1, \n",
    "                                            factor=0.5, \n",
    "                                            min_lr=0.00001)"
   ]
  },
  {
   "cell_type": "code",
   "execution_count": null,
   "metadata": {},
   "outputs": [
    {
     "name": "stdout",
     "output_type": "stream",
     "text": [
      "Epoch 1/35\n",
      "389/390 [============================>.] - ETA: 0s - loss: 0.0408 - acc: 0.9870Epoch 00000: val_loss did not improve\n",
      "390/390 [==============================] - 73s - loss: 0.0408 - acc: 0.9870 - val_loss: 0.0237 - val_acc: 0.9929\n",
      "Epoch 2/35\n",
      "389/390 [============================>.] - ETA: 0s - loss: 0.0398 - acc: 0.9872Epoch 00001: val_loss improved from 0.02323 to 0.02319, saving model to bestval.h5\n",
      "390/390 [==============================] - 72s - loss: 0.0398 - acc: 0.9872 - val_loss: 0.0232 - val_acc: 0.9932\n",
      "Epoch 3/35\n",
      "389/390 [============================>.] - ETA: 0s - loss: 0.0398 - acc: 0.9874Epoch 00002: val_loss did not improve\n",
      "390/390 [==============================] - 66s - loss: 0.0398 - acc: 0.9874 - val_loss: 0.0234 - val_acc: 0.9932\n",
      "Epoch 4/35\n",
      "389/390 [============================>.] - ETA: 0s - loss: 0.0408 - acc: 0.9875Epoch 00003: val_loss improved from 0.02319 to 0.02302, saving model to bestval.h5\n",
      "390/390 [==============================] - 66s - loss: 0.0409 - acc: 0.9875 - val_loss: 0.0230 - val_acc: 0.9932\n",
      "Epoch 5/35\n",
      "389/390 [============================>.] - ETA: 0s - loss: 0.0412 - acc: 0.9872Epoch 00004: val_loss did not improve\n",
      "390/390 [==============================] - 67s - loss: 0.0411 - acc: 0.9872 - val_loss: 0.0231 - val_acc: 0.9932\n",
      "Epoch 6/35\n",
      "389/390 [============================>.] - ETA: 0s - loss: 0.0387 - acc: 0.9883Epoch 00005: val_loss did not improve\n",
      "390/390 [==============================] - 66s - loss: 0.0387 - acc: 0.9883 - val_loss: 0.0231 - val_acc: 0.9933\n",
      "Epoch 7/35\n",
      "389/390 [============================>.] - ETA: 0s - loss: 0.0398 - acc: 0.9879Epoch 00006: val_loss did not improve\n",
      "390/390 [==============================] - 69s - loss: 0.0398 - acc: 0.9879 - val_loss: 0.0233 - val_acc: 0.9930\n",
      "Epoch 8/35\n",
      "389/390 [============================>.] - ETA: 0s - loss: 0.0402 - acc: 0.9871Epoch 00007: val_loss improved from 0.02302 to 0.02291, saving model to bestval.h5\n",
      "390/390 [==============================] - 69s - loss: 0.0401 - acc: 0.9871 - val_loss: 0.0229 - val_acc: 0.9931\n",
      "Epoch 9/35\n",
      "389/390 [============================>.] - ETA: 0s - loss: 0.0397 - acc: 0.9876Epoch 00008: val_loss did not improve\n",
      "390/390 [==============================] - 71s - loss: 0.0399 - acc: 0.9876 - val_loss: 0.0236 - val_acc: 0.9931\n",
      "Epoch 10/35\n",
      "389/390 [============================>.] - ETA: 0s - loss: 0.0405 - acc: 0.9869\n",
      "Epoch 00009: reducing learning rate to 3.12500014843e-05.\n",
      "Epoch 00009: val_loss improved from 0.02291 to 0.02258, saving model to bestval.h5\n",
      "390/390 [==============================] - 70s - loss: 0.0405 - acc: 0.9869 - val_loss: 0.0226 - val_acc: 0.9932\n",
      "Epoch 11/35\n",
      "389/390 [============================>.] - ETA: 0s - loss: 0.0394 - acc: 0.9866Epoch 00010: val_loss did not improve\n",
      "390/390 [==============================] - 71s - loss: 0.0395 - acc: 0.9866 - val_loss: 0.0227 - val_acc: 0.9936\n",
      "Epoch 12/35\n",
      "389/390 [============================>.] - ETA: 0s - loss: 0.0401 - acc: 0.9877Epoch 00011: val_loss did not improve\n",
      "390/390 [==============================] - 69s - loss: 0.0401 - acc: 0.9877 - val_loss: 0.0230 - val_acc: 0.9932\n",
      "Epoch 13/35\n",
      "389/390 [============================>.] - ETA: 0s - loss: 0.0392 - acc: 0.9872Epoch 00012: val_loss did not improve\n",
      "390/390 [==============================] - 70s - loss: 0.0392 - acc: 0.9872 - val_loss: 0.0231 - val_acc: 0.9935\n",
      "Epoch 14/35\n",
      "389/390 [============================>.] - ETA: 0s - loss: 0.0394 - acc: 0.9882Epoch 00013: val_loss did not improve\n",
      "390/390 [==============================] - 70s - loss: 0.0395 - acc: 0.9881 - val_loss: 0.0230 - val_acc: 0.9936\n",
      "Epoch 15/35\n",
      "389/390 [============================>.] - ETA: 0s - loss: 0.0389 - acc: 0.9877\n",
      "Epoch 00014: reducing learning rate to 1.56250007421e-05.\n",
      "Epoch 00014: val_loss did not improve\n",
      "390/390 [==============================] - 70s - loss: 0.0388 - acc: 0.9877 - val_loss: 0.0233 - val_acc: 0.9932\n",
      "Epoch 16/35\n",
      "389/390 [============================>.] - ETA: 0s - loss: 0.0381 - acc: 0.9883Epoch 00015: val_loss did not improve\n",
      "390/390 [==============================] - 69s - loss: 0.0380 - acc: 0.9883 - val_loss: 0.0233 - val_acc: 0.9932\n",
      "Epoch 17/35\n",
      "389/390 [============================>.] - ETA: 0s - loss: 0.0399 - acc: 0.9877Epoch 00016: val_loss did not improve\n",
      "390/390 [==============================] - 69s - loss: 0.0399 - acc: 0.9877 - val_loss: 0.0232 - val_acc: 0.9932\n",
      "Epoch 18/35\n",
      "389/390 [============================>.] - ETA: 0s - loss: 0.0398 - acc: 0.9878\n",
      "Epoch 00017: reducing learning rate to 1e-05.\n",
      "Epoch 00017: val_loss did not improve\n",
      "390/390 [==============================] - 69s - loss: 0.0398 - acc: 0.9878 - val_loss: 0.0232 - val_acc: 0.9932\n",
      "Epoch 19/35\n",
      "269/390 [===================>..........] - ETA: 43s - loss: 0.0404 - acc: 0.9870"
     ]
    }
   ],
   "source": [
    "# Fit the model\n",
    "history = model.fit_generator(datagen.flow(X_train,Y_train, batch_size=batch_size),\n",
    "                              epochs = epochs, validation_data = (X_val,Y_val),\n",
    "                              verbose = 1, steps_per_epoch=X_train.shape[0] // batch_size\n",
    "                              , callbacks=[learning_rate_reduction,bestval])"
   ]
  },
  {
   "cell_type": "code",
   "execution_count": 39,
   "metadata": {},
   "outputs": [
    {
     "data": {
      "image/png": "[encoded data removed]",
      "text/plain": [
       "<matplotlib.figure.Figure at 0x7fd5f080b6d0>"
      ]
     },
     "metadata": {},
     "output_type": "display_data"
    }
   ],
   "source": [
    "# Plot the loss and accuracy curves for training and validation \n",
    "fig, ax = plt.subplots(2,1)\n",
    "ax[0].plot(history.history['loss'], color='b', label=\"Training loss\")\n",
    "ax[0].plot(history.history['val_loss'], color='r', label=\"validation loss\",axes =ax[0])\n",
    "legend = ax[0].legend(loc='best', shadow=True)\n",
    "\n",
    "ax[1].plot(history.history['acc'], color='b', label=\"Training accuracy\")\n",
    "ax[1].plot(history.history['val_acc'], color='r',label=\"Validation accuracy\")\n",
    "legend = ax[1].legend(loc='best', shadow=True)"
   ]
  },
  {
   "cell_type": "code",
   "execution_count": 20,
   "metadata": {
    "collapsed": true
   },
   "outputs": [],
   "source": [
    "model.load_weights('bestval.h5')"
   ]
  },
  {
   "cell_type": "code",
   "execution_count": 21,
   "metadata": {},
   "outputs": [
    {
     "data": {
      "image/png": "[encoded data removed]",
      "text/plain": [
       "<matplotlib.figure.Figure at 0x7fd6104e2850>"
      ]
     },
     "metadata": {},
     "output_type": "display_data"
    }
   ],
   "source": [
    "# Look at confusion matrix \n",
    "\n",
    "def plot_confusion_matrix(cm, classes,\n",
    "                          normalize=False,\n",
    "                          title='Confusion matrix',\n",
    "                          cmap=plt.cm.Blues):\n",
    "    \"\"\"\n",
    "    This function prints and plots the confusion matrix.\n",
    "    Normalization can be applied by setting `normalize=True`.\n",
    "    \"\"\"\n",
    "    plt.imshow(cm, interpolation='nearest', cmap=cmap)\n",
    "    plt.title(title)\n",
    "    plt.colorbar()\n",
    "    tick_marks = np.arange(len(classes))\n",
    "    plt.xticks(tick_marks, classes, rotation=45)\n",
    "    plt.yticks(tick_marks, classes)\n",
    "\n",
    "    if normalize:\n",
    "        cm = cm.astype('float') / cm.sum(axis=1)[:, np.newaxis]\n",
    "\n",
    "    thresh = cm.max() / 2.\n",
    "    for i, j in itertools.product(range(cm.shape[0]), range(cm.shape[1])):\n",
    "        plt.text(j, i, cm[i, j],\n",
    "                 horizontalalignment=\"center\",\n",
    "                 color=\"white\" if cm[i, j] > thresh else \"black\")\n",
    "\n",
    "    plt.tight_layout()\n",
    "    plt.ylabel('True label')\n",
    "    plt.xlabel('Predicted label')\n",
    "\n",
    "# Predict the values from the validation dataset\n",
    "Y_pred = model.predict(X_val)\n",
    "# Convert predictions classes to one hot vectors \n",
    "Y_pred_classes = np.argmax(Y_pred,axis = 1) \n",
    "# Convert validation observations to one hot vectors\n",
    "Y_true = np.argmax(Y_val,axis = 1) \n",
    "# compute the confusion matrix\n",
    "confusion_mtx = confusion_matrix(Y_true, Y_pred_classes) \n",
    "# plot the confusion matrix\n",
    "plot_confusion_matrix(confusion_mtx, classes = range(10)) "
   ]
  },
  {
   "cell_type": "code",
   "execution_count": 22,
   "metadata": {},
   "outputs": [
    {
     "data": {
      "image/png": "[encoded data removed]",
      "text/plain": [
       "<matplotlib.figure.Figure at 0x7fd672330f50>"
      ]
     },
     "metadata": {},
     "output_type": "display_data"
    }
   ],
   "source": [
    "# Display some error results \n",
    "\n",
    "# Errors are difference between predicted labels and true labels\n",
    "errors = (Y_pred_classes - Y_true != 0)\n",
    "\n",
    "Y_pred_classes_errors = Y_pred_classes[errors]\n",
    "Y_pred_errors = Y_pred[errors]\n",
    "Y_true_errors = Y_true[errors]\n",
    "X_val_errors = X_val[errors]\n",
    "\n",
    "def display_errors(errors_index,img_errors,pred_errors, obs_errors):\n",
    "    \"\"\" This function shows 6 images with their predicted and real labels\"\"\"\n",
    "    n = 0\n",
    "    nrows = 2\n",
    "    ncols = 3\n",
    "    fig, ax = plt.subplots(nrows,ncols,sharex=True,sharey=True)\n",
    "    for row in range(nrows):\n",
    "        for col in range(ncols):\n",
    "            error = errors_index[n]\n",
    "            ax[row,col].imshow((img_errors[error]).reshape((28,28)))\n",
    "            ax[row,col].set_title(\"Predicted label :{}\\nTrue label :{}\".format(pred_errors[error],obs_errors[error]))\n",
    "            n += 1\n",
    "\n",
    "# Probabilities of the wrong predicted numbers\n",
    "Y_pred_errors_prob = np.max(Y_pred_errors,axis = 1)\n",
    "\n",
    "# Predicted probabilities of the true values in the error set\n",
    "true_prob_errors = np.diagonal(np.take(Y_pred_errors, Y_true_errors, axis=1))\n",
    "\n",
    "# Difference between the probability of the predicted label and the true label\n",
    "delta_pred_true_errors = Y_pred_errors_prob - true_prob_errors\n",
    "\n",
    "# Sorted list of the delta prob errors\n",
    "sorted_dela_errors = np.argsort(delta_pred_true_errors)\n",
    "\n",
    "# Top 6 errors \n",
    "most_important_errors = sorted_dela_errors[-6:]\n",
    "\n",
    "# Show the top 6 errors\n",
    "display_errors(most_important_errors, X_val_errors, Y_pred_classes_errors, Y_true_errors)"
   ]
  },
  {
   "cell_type": "code",
   "execution_count": 25,
   "metadata": {
    "collapsed": true
   },
   "outputs": [],
   "source": [
    "# predict results\n",
    "results = model.predict(test)\n",
    "\n",
    "# select the indix with the maximum probability\n",
    "results = np.argmax(results,axis = 1)\n",
    "\n",
    "results = pd.Series(results,name=\"Label\")"
   ]
  },
  {
   "cell_type": "code",
   "execution_count": 27,
   "metadata": {
    "collapsed": true
   },
   "outputs": [],
   "source": [
    "submission = pd.concat([pd.Series(range(1,28001),name = \"ImageId\"),results],axis = 1)\n",
    "\n",
    "submission.to_csv(\"submit.csv\",index=False)"
   ]
  }
 ],
 "metadata": {
  "kernelspec": {
   "display_name": "Python 2",
   "language": "python",
   "name": "python2"
  },
  "language_info": {
   "codemirror_mode": {
    "name": "ipython",
    "version": 2
   },
   "file_extension": ".py",
   "mimetype": "text/x-python",
   "name": "python",
   "nbconvert_exporter": "python",
   "pygments_lexer": "ipython2",
   "version": "2.7.13"
  }
 },
 "nbformat": 4,
 "nbformat_minor": 2
}
